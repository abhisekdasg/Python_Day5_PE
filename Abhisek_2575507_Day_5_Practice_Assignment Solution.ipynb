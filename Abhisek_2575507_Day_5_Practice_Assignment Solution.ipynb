{
 "cells": [
  {
   "cell_type": "markdown",
   "id": "c8dc7f5b",
   "metadata": {},
   "source": [
    "# Modules and Virtual Environments\n"
   ]
  },
  {
   "cell_type": "markdown",
   "id": "df47517e",
   "metadata": {},
   "source": [
    "# 1.Module Import and Management Scenario:\n",
    " \n",
    "You are developing a complex Python project with multiple modules. To manage the project effectively, you need to import and use various modules. Additionally, you want to organize your code using namespaces and avoid naming conflicts.\n",
    "Design a Python program that demonstrates the following:\n",
    "\n",
    "1. Import multiple modules within your project.\n",
    "2. Use the import statement to access functions, classes, and variables from imported modules.\n",
    "3. Create your custom module and use it in your main program.\n",
    "4. Handle naming conflicts and ensure proper namespacing.\n",
    "5. Implement error handling for missing modules or incorrect module usage.\n"
   ]
  },
  {
   "cell_type": "code",
   "execution_count": 6,
   "id": "da167b5b",
   "metadata": {},
   "outputs": [
    {
     "name": "stdout",
     "output_type": "stream",
     "text": [
      "Result of addition: 8\n",
      "Square root of 16: 4.0\n",
      "My_module pi value: 3.14159265359\n",
      "Built-in math pi value: 3.141592653589793\n",
      "Import Successful !!\n"
     ]
    }
   ],
   "source": [
    "try:\n",
    "    # 1. Import multiple modules within your project.\n",
    "    import math  # Import Python's built-in math module\n",
    "    import my_math  # Import the my_math module\n",
    "    \n",
    "    # using my module: my_math\n",
    "    result = my_math.add(5, 3)  # Using the 'add' function from custom module\n",
    "    print(f\"Result of addition: {result}\")\n",
    "    \n",
    "    # Using the 'sqrt' function from the built-in math module\n",
    "    print(f\"Square root of 16: {math.sqrt(16)}\")\n",
    "    \n",
    "    # Using the variable 'pi' from the my module: my_math\n",
    "    print(f\"My_module pi value: {my_math.pi}\")\n",
    "    \n",
    "    # Using the constant 'pi' from the built-in math module\n",
    "    print(f\"Built-in math pi value: {math.pi}\")\n",
    "    \n",
    "    print(\"Import Successful !!\")\n",
    "\n",
    "except ImportError as e:\n",
    "    # 4. Handle naming conflicts and ensure proper namespacing.\n",
    "    print(f\"Import error: {e}\")\n",
    "    print(\"Make sure all module names are unique and do not conflict.\")\n",
    "except AttributeError as e:\n",
    "    # 5. Implement error handling for missing modules or incorrect module usage.\n",
    "    print(f\"Attribute error: {e}\")\n",
    "    print(\"Check if the function or variable you are trying to access exists in the imported module.\")\n",
    "except Exception as e:\n",
    "    print(f\"An unexpected error occurred: {e}\")\n"
   ]
  },
  {
   "cell_type": "markdown",
   "id": "ea9ff264",
   "metadata": {},
   "source": [
    "# 2. Virtual Environment Management Scenario: \n",
    "You are working on multiple Python projects with different dependencies and versions. To avoid conflicts and ensure project isolation, you decide to use virtual environments.\n",
    "Create a Python program that demonstrates the following:\n",
    "1. Create a virtual environment for a specific project.\n",
    "2. Activate and deactivate virtual environments. 3. Install, upgrade, and uninstall packages within a virtual environment.\n",
    "4. List the installed packages in a virtual environment.\n",
    "5. Implement error handling for virtual environment operations.\n"
   ]
  },
  {
   "cell_type": "code",
   "execution_count": null,
   "id": "c6d2dddb",
   "metadata": {},
   "outputs": [],
   "source": [
    "# in the anaconda propt we need to write\n",
    "1. select our directory then write \n",
    "2. pip install virtualenv\n",
    "        --> then it will installed in your machine\n",
    "2. then we create a virtual environment by giving command:\n",
    "        --> virtualenv myenv\n",
    "3. for activate we need to wrtie:\n",
    "        --> myenv\\Scripts\\activate\n",
    "4. the for deactivate simply we write:\n",
    "        --> deactivate\n"
   ]
  },
  {
   "cell_type": "code",
   "execution_count": 11,
   "id": "bb28007d",
   "metadata": {},
   "outputs": [
    {
     "name": "stdout",
     "output_type": "stream",
     "text": [
      "Virtual environment 'myenv' created successfully.\n",
      "Error: Failed to activate virtual environment 'myenv'.\n",
      "Installed 'requests' in virtual environment 'myenv'.\n",
      "Installed packages in virtual environment 'myenv':\n",
      "Package            Version\n",
      "------------------ ---------\n",
      "certifi            2023.7.22\n",
      "charset-normalizer 3.2.0\n",
      "idna               3.4\n",
      "pip                23.2.1\n",
      "requests           2.31.0\n",
      "setuptools         68.2.0\n",
      "urllib3            2.0.4\n",
      "wheel              0.41.2\n",
      "\n",
      "Deactivated the virtual environment.\n"
     ]
    }
   ],
   "source": [
    "#\n",
    "import subprocess\n",
    "import sys\n",
    "\n",
    "def create_virtual_environment(env_name):\n",
    "    try:\n",
    "        # 1. Create a virtual environment for a specific project.\n",
    "        subprocess.run([sys.executable, '-m', 'venv', env_name], check=True)\n",
    "        print(f\"Virtual environment '{env_name}' created successfully.\")\n",
    "    except subprocess.CalledProcessError:\n",
    "        print(f\"Error: Failed to create virtual environment '{env_name}'.\")\n",
    "\n",
    "def activate_virtual_environment(env_name):\n",
    "    try:\n",
    "        # 2. Activate a virtual environment.\n",
    "        activate_script = f\"{env_name}/Scripts/activate\"\n",
    "        subprocess.run([activate_script], shell=True, check=True)\n",
    "        print(f\"Activated virtual environment '{env_name}'.\")\n",
    "    except subprocess.CalledProcessError:\n",
    "        print(f\"Error: Failed to activate virtual environment '{env_name}'.\")\n",
    "\n",
    "def deactivate_virtual_environment():\n",
    "    try:\n",
    "        # 2. Deactivate the currently active virtual environment.\n",
    "        subprocess.run(['deactivate'], shell=True, check=True)\n",
    "        print(\"Deactivated the virtual environment.\")\n",
    "    except subprocess.CalledProcessError:\n",
    "        print(\"Error: Failed to deactivate the virtual environment.\")\n",
    "\n",
    "def install_package(env_name, package_name):\n",
    "    try:\n",
    "        # 3. Install a package within a virtual environment.\n",
    "        subprocess.run([f\"{env_name}/Scripts/pip\", 'install', package_name], check=True)\n",
    "        print(f\"Installed '{package_name}' in virtual environment '{env_name}'.\")\n",
    "    except subprocess.CalledProcessError:\n",
    "        print(f\"Error: Failed to install '{package_name}' in virtual environment '{env_name}'.\")\n",
    "\n",
    "def list_installed_packages(env_name):\n",
    "    try:\n",
    "        # 4. List installed packages in a virtual environment.\n",
    "        result = subprocess.run([f\"{env_name}/Scripts/pip\", 'list'], stdout=subprocess.PIPE, check=True, text=True)\n",
    "        print(f\"Installed packages in virtual environment '{env_name}':\\n{result.stdout}\")\n",
    "    except subprocess.CalledProcessError:\n",
    "        print(f\"Error: Failed to list installed packages in virtual environment '{env_name}'.\")\n",
    "\n",
    "if __name__ == \"__main__\":\n",
    "\n",
    "    env_name = \"myenv\"\n",
    "\n",
    "    create_virtual_environment(env_name)\n",
    "    activate_virtual_environment(env_name)\n",
    "    install_package(env_name, \"requests\")\n",
    "    list_installed_packages(env_name)\n",
    "    deactivate_virtual_environment()\n"
   ]
  },
  {
   "cell_type": "markdown",
   "id": "2cc01db2",
   "metadata": {},
   "source": [
    "# 3.Module Dependency Resolution Scenario: \n",
    "You are developing a Python application that relies on third-party packages. Managing dependencies and ensuring compatibility is crucial for your project's success.\n",
    "\n",
    "Design a Python program that demonstrates the following:\n",
    "1. Use a requirements.txt file to specify project dependencies.\n",
    "2. Automatically install all project dependencies from the requirements.txt file.\n",
    "3. Ensure that the versions of installed packages are compatible.\n",
    "4. Implement error handling for dependency resolution and installation.\n"
   ]
  },
  {
   "cell_type": "code",
   "execution_count": null,
   "id": "3c1af5ca",
   "metadata": {},
   "outputs": [],
   "source": [
    "# first we craete a requirements.txt file and write your requests in it then run the following python file\n",
    "# check pip is installed or not in our machine or not\n",
    "# code is: python -m pip install --upgrade pip\n",
    "# pip install -r requirements.txt\n",
    "# then it automatically do the installation process accoriding to your requirements\n",
    "\n",
    "# inside that we need to write :\n",
    "\"\"\"\n",
    "requests~=2.25\n",
    "numpy~=1.21\n",
    "Flask~=2.0\n",
    "\n",
    "\"\"\"\n",
    "# this will helps to finding the required version that our machine needs"
   ]
  },
  {
   "cell_type": "code",
   "execution_count": 13,
   "id": "dff0c63a",
   "metadata": {},
   "outputs": [
    {
     "name": "stdout",
     "output_type": "stream",
     "text": [
      "Step 1: Creating a virtual environment (my_project_venv)\n",
      "Step 2: Activating the virtual environment (Windows)\n",
      "Step 3: Installing project dependencies from requirements.txt\n",
      "Step 4: Deactivating the virtual environment (Windows)\n",
      "Project setup completed successfully.\n"
     ]
    }
   ],
   "source": [
    "import subprocess\n",
    "import sys\n",
    "\n",
    "def create_virtualenv(venv_name):\n",
    "    try:\n",
    "        subprocess.run([sys.executable, \"-m\", \"venv\", venv_name], check=True)\n",
    "    except subprocess.CalledProcessError:\n",
    "        print(\"Error: Failed to create virtual environment.\")\n",
    "        exit(1)\n",
    "\n",
    "def install_dependencies(venv_name):\n",
    "    try:\n",
    "        subprocess.run([venv_name + \"\\\\Scripts\\\\pip\", \"install\", \"-r\", \"requirements.txt\"], check=True)\n",
    "    except subprocess.CalledProcessError:\n",
    "        print(\"Error: Failed to install dependencies.\")\n",
    "        exit(1)\n",
    "\n",
    "if __name__ == \"__main__\":\n",
    "    venv_name = \"my_project_venv\"\n",
    "\n",
    "    # Step 1: Create a virtual environment\n",
    "    print(f\"Step 1: Creating a virtual environment ({venv_name})\")\n",
    "    create_virtualenv(venv_name)\n",
    "\n",
    "    # Step 2: Activate the virtual environment (Windows)\n",
    "    print(\"Step 2: Activating the virtual environment (Windows)\")\n",
    "    activate_script = venv_name + \"\\\\Scripts\\\\activate.bat\"\n",
    "    subprocess.run([activate_script], shell=True, check=True)\n",
    "\n",
    "    # Step 3: Install dependencies from requirements.txt\n",
    "    print(\"Step 3: Installing project dependencies from requirements.txt\")\n",
    "    install_dependencies(venv_name)\n",
    "\n",
    "    # Step 4: Deactivate the virtual environment (Windows)\n",
    "    print(\"Step 4: Deactivating the virtual environment (Windows)\")\n",
    "    subprocess.run([\"deactivate\"], shell=True, check=True)\n",
    "\n",
    "    print(\"Project setup completed successfully.\")\n"
   ]
  },
  {
   "cell_type": "markdown",
   "id": "648b2cf8",
   "metadata": {},
   "source": [
    "# Database programming with MySQL:\n"
   ]
  },
  {
   "cell_type": "markdown",
   "id": "56fd7e88",
   "metadata": {},
   "source": [
    "# 1. Implement Inventory Management in Python with MySQL\n",
    "    a) Inventory management, a critical element of the supply chain, is the tracking of inventory from manufacturers to warehouses and from these facilities to a point of sale. The goal of inventory management is to have the right products in the right place at the right time.\n",
    "    b) The required Database is Inventory, and the required Tables are Purchases, Sales and Inventory\n",
    "    c) Note: Apply your thoughts to demonstrate the DB Operation in Python.\n"
   ]
  },
  {
   "cell_type": "code",
   "execution_count": 1,
   "id": "870543dc",
   "metadata": {},
   "outputs": [
    {
     "name": "stdout",
     "output_type": "stream",
     "text": [
      "<mysql.connector.connection_cext.CMySQLConnection object at 0x0000026C2E215910>\n"
     ]
    }
   ],
   "source": [
    "# Create database connectivity\n",
    "import mysql.connector\n",
    "\n",
    "conn= mysql.connector.connect(user='root',\n",
    "                              password='passworde',\n",
    "                              host='127.0.0.1',\n",
    "                              database='Inventory')\n",
    "\n",
    "print(conn) # cheking Connection"
   ]
  },
  {
   "cell_type": "code",
   "execution_count": 2,
   "id": "63ef8006",
   "metadata": {},
   "outputs": [
    {
     "name": "stdout",
     "output_type": "stream",
     "text": [
      "('information_schema',)\n",
      "('inventory',)\n",
      "('mla',)\n",
      "('my_database',)\n",
      "('mydatabase',)\n",
      "('mysql',)\n",
      "('onlinebookstore',)\n",
      "('order_processing_system',)\n",
      "('performance_schema',)\n",
      "('ps10',)\n",
      "('ps4string',)\n",
      "('ps7company',)\n",
      "('sakila',)\n",
      "('schooldb',)\n",
      "('shirts_db',)\n",
      "('sys',)\n",
      "('world',)\n"
     ]
    }
   ],
   "source": [
    "# creating a cursor for my connection\n",
    "curs =conn.cursor()\n",
    "curs.execute('show databases')\n",
    "for i in curs:\n",
    "    print(i)"
   ]
  },
  {
   "cell_type": "code",
   "execution_count": null,
   "id": "f9377fa5",
   "metadata": {},
   "outputs": [],
   "source": [
    "# creating tables Purchases, Sales, Inventory\n",
    "# creating table Inventory \n",
    "curs.execute(\"create table Inventory (id INT AUTO_INCREMENT PRIMARY KEY,product_name VARCHAR(255),quantity INT,unit_price DECIMAL(10, 2))\")\n",
    "\n",
    "   \n",
    "# creating table Purchases \n",
    "curs.execute(\"create table Purchases (id INT AUTO_INCREMENT PRIMARY KEY, product_id INT,purchase_date DATE,quantity INT, unit_price DECIMAL(10, 2), FOREIGN KEY (product_id) REFERENCES Inventory(id))\")\n",
    "\n",
    "# creating table Sales \n",
    "curs.execute(\"create table Sales (id INT AUTO_INCREMENT PRIMARY KEY,product_id INT,sale_date DATE,quantity INT,unit_price DECIMAL(10, 2),FOREIGN KEY (product_id) REFERENCES Inventory(id))\")\n",
    "                  "
   ]
  },
  {
   "cell_type": "code",
   "execution_count": 23,
   "id": "a20a4d60",
   "metadata": {},
   "outputs": [
    {
     "name": "stdout",
     "output_type": "stream",
     "text": [
      "('inventory',)\n",
      "('purchases',)\n",
      "('sales',)\n"
     ]
    }
   ],
   "source": [
    "curs.execute('show tables')\n",
    "for i in curs:\n",
    "    print(i)"
   ]
  },
  {
   "cell_type": "code",
   "execution_count": 17,
   "id": "97a7f1f8",
   "metadata": {},
   "outputs": [],
   "source": [
    "curs = conn.cursor()\n",
    "\n",
    "# Insert  values into the Inventory table\n",
    "inventory_data = [\n",
    "    (\"Dal\", 100, 10.99),\n",
    "    (\"Rice\", 50, 15.99),\n",
    "    (\"Oil\", 200, 5.99)\n",
    "]\n",
    "\n",
    "sql_inventory = \"INSERT INTO Inventory (product_name, quantity, unit_price) VALUES (%s, %s, %s)\"\n",
    "\n",
    "curs.executemany(sql_inventory, inventory_data)\n",
    "conn.commit()\n",
    "\n",
    "# Insert  values into the Purchases table\n",
    "purchases_data = [\n",
    "    (1, \"2023-09-01\", 50, 9.99),\n",
    "    (2, \"2023-09-05\", 25, 14.99),\n",
    "    (1, \"2023-09-07\", 30, 10.49)\n",
    "]\n",
    "\n",
    "sql_purchase = \"INSERT INTO Purchases (product_id, purchase_date, quantity, unit_price) VALUES (%s, %s, %s, %s)\"\n",
    "\n",
    "curs.executemany(sql_purchase, purchases_data)\n",
    "conn.commit()\n",
    "\n",
    "# Insert  values into the Sales table\n",
    "sales_data = [\n",
    "    (1, \"2023-09-12\", 40, 12.99),\n",
    "    (3, \"2023-09-15\", 20, 7.99),\n",
    "    (2, \"2023-09-18\", 10, 15.99)\n",
    "]\n",
    "\n",
    "sql_sales = \"INSERT INTO Sales (product_id, sale_date, quantity, unit_price) VALUES (%s, %s, %s, %s)\"\n",
    "\n",
    "curs.executemany(sql_sales, sales_data)\n",
    "conn.commit()\n",
    "\n",
    "# Close the database connection\n",
    "\n",
    "conn.close()\n"
   ]
  },
  {
   "cell_type": "code",
   "execution_count": 26,
   "id": "a20a7ac8",
   "metadata": {},
   "outputs": [
    {
     "name": "stdout",
     "output_type": "stream",
     "text": [
      "(1, 'Dal', 100, Decimal('10.99'))\n",
      "(2, 'Rice', 50, Decimal('15.99'))\n",
      "(3, 'Oil', 200, Decimal('5.99'))\n",
      "\n",
      "(1, 1, datetime.date(2023, 9, 1), 50, Decimal('9.99'))\n",
      "(2, 2, datetime.date(2023, 9, 5), 25, Decimal('14.99'))\n",
      "(3, 1, datetime.date(2023, 9, 7), 30, Decimal('10.49'))\n",
      "\n",
      "(1, 1, datetime.date(2023, 9, 12), 40, Decimal('12.99'))\n",
      "(2, 3, datetime.date(2023, 9, 15), 20, Decimal('7.99'))\n",
      "(3, 2, datetime.date(2023, 9, 18), 10, Decimal('15.99'))\n"
     ]
    }
   ],
   "source": [
    "curs = conn.cursor()\n",
    "#displaying data inside table\n",
    "curs.execute('select * from Inventory ')\n",
    "for i in curs:\n",
    "    print(i)\n",
    "print()\n",
    "\n",
    "curs.execute('select * from Purchases ')\n",
    "for i in curs:\n",
    "    print(i)\n",
    "print()\n",
    "\n",
    "curs.execute('select * from Sales ')\n",
    "for i in curs:\n",
    "    print(i)\n"
   ]
  },
  {
   "cell_type": "code",
   "execution_count": 27,
   "id": "aa3181f2",
   "metadata": {},
   "outputs": [],
   "source": [
    "# if we will do a db operation then\n",
    "\n",
    "# Fucnction to Inserting a new product into the Inventory table\n",
    "def add_product(product_name, quantity, unit_price):\n",
    "    query = \"INSERT INTO Inventory (product_name, quantity, unit_price) VALUES (%s, %s, %s)\"\n",
    "    values = (product_name, quantity, unit_price)\n",
    "    curs.execute(query, values)\n",
    "    conn.commit()\n",
    "    print(\"****You have sucssfully added a product.****\")\n",
    "    print(f\"Added product: {product_name}\")\n",
    "\n",
    "# Update product quantity and unit price in the Inventory table\n",
    "def update_product(product_id, new_quantity, new_unit_price):\n",
    "    query = \"UPDATE Inventory SET quantity=%s, unit_price=%s WHERE id=%s\"\n",
    "    values = (new_quantity, new_unit_price, product_id)\n",
    "    curs.execute(query, values)\n",
    "    conn.commit()\n",
    "    print(\"****You have sucssfully Update a product.****\")\n",
    "    print(f\"Updated product with ID: {product_id}\")\n",
    "\n",
    "# Query the Inventory table to retrieve product information\n",
    "def get_product_info(product_id):\n",
    "    query = \"SELECT product_name, quantity, unit_price FROM Inventory WHERE id=%s\"\n",
    "    curs.execute(query, (product_id,))\n",
    "    result = curs.fetchone()\n",
    "    if result:\n",
    "        product_name, quantity, unit_price = result\n",
    "        print(f\"Product ID: {product_id}\")\n",
    "        print(f\"Product Name: {product_name}\")\n",
    "        print(f\"Quantity: {quantity}\")\n",
    "        print(f\"Unit Price: {unit_price}\")\n",
    "    else:\n",
    "        print(f\"Product with ID {product_id} not found\")\n"
   ]
  },
  {
   "cell_type": "code",
   "execution_count": 31,
   "id": "3bde7040",
   "metadata": {},
   "outputs": [
    {
     "name": "stdout",
     "output_type": "stream",
     "text": [
      "Added product: wheat\n",
      "\n",
      "Updated product with ID 1\n",
      "\n",
      "*****Product Details*****\n",
      "Product ID: 1\n",
      "Product Name: Dal\n",
      "Quantity: 120\n",
      "Unit Price: 11.49\n"
     ]
    }
   ],
   "source": [
    "# Adding a product\n",
    "\n",
    "add_product(\"wheat\", 75, 8.99)\n",
    "print()\n",
    "\n",
    "#updating the product in the inventory of id 1\n",
    "update_product(1, 120, 11.49)\n",
    "print()\n",
    "\n",
    "print(\"*****Product Details*****\")\n",
    "#displaying the updated product details\n",
    "get_product_info(1)\n"
   ]
  },
  {
   "cell_type": "markdown",
   "id": "88f7d857",
   "metadata": {},
   "source": [
    "# 2.Customer Order Processing Scenario: \n",
    "You are building a customer order processing system for an e-commerce company. The system needs to interact with a MySQL database to store customer orders, products, and order details.\n",
    "1. Design a MySQL database schema for the order processing system, including tables for customers, products, and orders.\n",
    "2. Write a Python program that connects to the database and allows customers to place new orders.\n",
    "3. Implement a feature that calculates the total cost of an order and updates product quantities in the database.\n",
    "4. How would you handle cases where a product is no longer available when a customer places an order?\n",
    "5. Develop a function to generate order reports for the company's finance department.\n"
   ]
  },
  {
   "cell_type": "code",
   "execution_count": 2,
   "id": "6d340ebc",
   "metadata": {},
   "outputs": [
    {
     "name": "stdout",
     "output_type": "stream",
     "text": [
      "<mysql.connector.connection_cext.CMySQLConnection object at 0x00000161A5FFD750>\n"
     ]
    }
   ],
   "source": [
    "# Create database connectivity\n",
    "import mysql.connector\n",
    "\n",
    "conn= mysql.connector.connect(user='root',\n",
    "                              password='passworde',\n",
    "                              host='127.0.0.1',\n",
    "                              database='Order_Processing_System')\n",
    "\n",
    "print(conn) # cheking Connection"
   ]
  },
  {
   "cell_type": "code",
   "execution_count": 35,
   "id": "7e720a8b",
   "metadata": {},
   "outputs": [
    {
     "name": "stdout",
     "output_type": "stream",
     "text": [
      "('information_schema',) ('inventory',) ('mla',) ('mydatabase',) ('mysql',) ('order_processing_system',) ('performance_schema',) ('ps10',) ('ps4string',) ('ps7company',) ('sakila',) ('schooldb',) ('shirts_db',) ('sys',) ('world',) "
     ]
    }
   ],
   "source": [
    "# creating a cursor for my connection\n",
    "curs =conn.cursor()\n",
    "curs.execute('show databases')\n",
    "for i in curs:\n",
    "    print(i,end=\" \")"
   ]
  },
  {
   "cell_type": "code",
   "execution_count": null,
   "id": "da741832",
   "metadata": {},
   "outputs": [],
   "source": [
    "# creating Customers Table\n",
    "curs.execute(\"create table Customers (customer_id INT AUTO_INCREMENT PRIMARY KEY,first_name VARCHAR(255),last_name VARCHAR(255),email VARCHAR(255),phone_number VARCHAR(20))\")\n",
    "   \n",
    "# creating Products Table\n",
    " \n",
    "curs.execute(\"create table Products (product_id INT AUTO_INCREMENT PRIMARY KEY,product_name VARCHAR(255),description TEXT,price DECIMAL(10, 2),quantity_available INT)\")\n",
    "\n",
    "# creating Orders Table \n",
    "curs.execute(\"create table Orders ( order_id INT AUTO_INCREMENT PRIMARY KEY,customer_id INT,order_date DATE,status VARCHAR(20),FOREIGN KEY (customer_id) REFERENCES Customers(customer_id))\")\n",
    "\n",
    "# creating OrderItems Table \n",
    "curs.execute(\"create table Order_Items (item_id INT AUTO_INCREMENT PRIMARY KEY,order_id INT,product_id INT,quantity INT,unit_price DECIMAL(10, 2),FOREIGN KEY (order_id) REFERENCES Orders(order_id),FOREIGN KEY (product_id) REFERENCES Products(product_id))\")\n",
    "\n",
    "            "
   ]
  },
  {
   "cell_type": "code",
   "execution_count": 42,
   "id": "b51dac1a",
   "metadata": {},
   "outputs": [
    {
     "name": "stdout",
     "output_type": "stream",
     "text": [
      "('customers',) ('order_items',) ('orders',) ('products',) "
     ]
    }
   ],
   "source": [
    "# checking tables\n",
    "curs =conn.cursor()\n",
    "curs.execute('show tables')\n",
    "for i in curs:\n",
    "    print(i,end=\" \")"
   ]
  },
  {
   "cell_type": "code",
   "execution_count": 43,
   "id": "26126b95",
   "metadata": {},
   "outputs": [],
   "source": [
    "# inserting values to the table\n",
    "cur = conn.cursor()\n",
    "\n",
    "# Inserting values into the Customers table\n",
    "customer_data = [\n",
    "    (\"Alice\", \"Johnson\", \"alice@example.com\", \"555-123-4567\"),\n",
    "    (\"Bob\", \"Smith\", \"bob@example.com\", \"555-987-6543\"),\n",
    "    (\"Charlie\", \"Brown\", \"charlie@example.com\", \"555-111-2222\")\n",
    "]\n",
    "\n",
    "sql_customer= \"INSERT INTO Customers (first_name, last_name, email, phone_number) VALUES (%s, %s, %s, %s)\"\n",
    "cur.executemany(sql_customer, customer_data)\n",
    "\n",
    "# Inserting values into the Products table\n",
    "product_data = [\n",
    "    (\"item1\", \"Description abt Item1\", 10.98, 200),\n",
    "    (\"item2\", \"Description abt Item2\", 12.99, 75),\n",
    "    (\"item3\", \"Description abt Item3\", 21.99, 150)\n",
    "]\n",
    "\n",
    "sql_product = \"INSERT INTO Products (product_name, description, price, quantity_available) VALUES (%s, %s, %s, %s)\"\n",
    "cur.executemany(sql_product, product_data)\n",
    "\n",
    "# Inserting values into the Orders table\n",
    "order_data = [\n",
    "    (1, '2023-09-01', 'Shipped'),\n",
    "    (2, '2023-09-05', 'Pending'),\n",
    "    (1, '2023-09-10', 'Shipped')\n",
    "]\n",
    "\n",
    "sql_order = \"INSERT INTO Orders (customer_id, order_date, status) VALUES (%s, %s, %s)\"\n",
    "cur.executemany(sql_order, order_data)\n",
    "\n",
    "# Inserting values into the Ordersitem table\n",
    "order_item_data = [\n",
    "    (1, 1, 2, 19.99),\n",
    "    (2, 2, 3, 29.99),\n",
    "    (1, 3, 1, 9.99),\n",
    "    (3, 1, 4, 19.99)\n",
    "]\n",
    "\n",
    "sql_order_item = \"INSERT INTO Order_Items (order_id, product_id, quantity, unit_price) VALUES (%s, %s, %s, %s)\"\n",
    "cur.executemany(sql_order_item, order_item_data)\n",
    "\n",
    "# Commit the changes\n",
    "conn.commit()\n",
    "\n",
    "# Close the database connection and cursor\n",
    "cur.close()\n",
    "conn.close()\n",
    "\n"
   ]
  },
  {
   "cell_type": "code",
   "execution_count": 56,
   "id": "1c7ddde3",
   "metadata": {},
   "outputs": [
    {
     "name": "stdout",
     "output_type": "stream",
     "text": [
      "(1, 'Alice', 'Johnson', 'alice@example.com', '555-123-4567')\n",
      "(2, 'Bob', 'Smith', 'bob@example.com', '555-987-6543')\n",
      "(3, 'Charlie', 'Brown', 'charlie@example.com', '555-111-2222')\n",
      "\n",
      "(1, 'item1', 'Description abt Item1', Decimal('10.98'), 200)\n",
      "(2, 'item2', 'Description abt Item2', Decimal('12.99'), 75)\n",
      "(3, 'item3', 'Description abt Item3', Decimal('21.99'), 150)\n",
      "\n",
      "(1, 1, datetime.date(2023, 9, 1), 'Shipped')\n",
      "(2, 2, datetime.date(2023, 9, 5), 'Pending')\n",
      "(3, 1, datetime.date(2023, 9, 10), 'Shipped')\n",
      "\n",
      "(5, 1, 1, 2, Decimal('19.99'))\n",
      "(6, 2, 2, 3, Decimal('29.99'))\n",
      "(7, 1, 3, 1, Decimal('9.99'))\n",
      "(8, 3, 1, 4, Decimal('19.99'))\n"
     ]
    }
   ],
   "source": [
    "curs = conn.cursor()\n",
    "#displaying data inside table\n",
    "curs.execute('select * from Customers ')\n",
    "for i in curs:\n",
    "    print(i)\n",
    "print()\n",
    "\n",
    "curs.execute('select * from Products ')\n",
    "for i in curs:\n",
    "    print(i)\n",
    "print()\n",
    "\n",
    "curs.execute('select * from Orders ')\n",
    "for i in curs:\n",
    "    print(i)\n",
    "print()\n",
    "\n",
    "curs.execute('select * from Order_Items ')\n",
    "for i in curs:\n",
    "    print(i)\n",
    "\n"
   ]
  },
  {
   "cell_type": "code",
   "execution_count": 58,
   "id": "0194a244",
   "metadata": {},
   "outputs": [
    {
     "name": "stdout",
     "output_type": "stream",
     "text": [
      "******Placing Order******\n",
      "Enter your customer id: 1\n",
      "Enter Product Number Which Product You Want: 1 for Product1, 2 for Product2, 3 for Product31\n",
      "Howmuch Qty you need: 3\n",
      "Order placed successfully. Total cost: $32.94\n"
     ]
    },
    {
     "data": {
      "text/plain": [
       "True"
      ]
     },
     "execution_count": 58,
     "metadata": {},
     "output_type": "execute_result"
    }
   ],
   "source": [
    "# Customer placing order\n",
    "\n",
    "curs = conn.cursor()\n",
    "\n",
    "def place_order(customer_id, product_id, quantity):\n",
    "    curs.execute(\"SELECT price, quantity_available FROM Products WHERE product_id = %s\", (product_id,))\n",
    "    product_info = curs.fetchone()\n",
    "    \n",
    "    #here we handel the error case1 \n",
    "    if not product_info:\n",
    "        print(\"Product not found.\")\n",
    "        return\n",
    "\n",
    "    unit_price, quantity_available = product_info\n",
    "    \n",
    "    #here we handel the error case2\n",
    "    if quantity > quantity_available:\n",
    "        print(\"Product quantity not sufficient.\")\n",
    "        return\n",
    "\n",
    "    total_cost = unit_price * quantity\n",
    "\n",
    "    curs.execute(\"INSERT INTO Orders (customer_id, order_date, status) VALUES (%s, NOW(), 'Pending')\", (customer_id,))\n",
    "    order_id = curs.lastrowid\n",
    "\n",
    "    curs.execute(\"INSERT INTO Order_Items (order_id, product_id, quantity, unit_price) VALUES (%s, %s, %s, %s)\",\n",
    "                   (order_id, product_id, quantity, unit_price))\n",
    "\n",
    "    curs.execute(\"UPDATE Products SET quantity_available = quantity_available - %s WHERE product_id = %s\",\n",
    "                   (quantity, product_id))\n",
    "\n",
    "    conn.commit()\n",
    "    print(f\"Order placed successfully. Total cost: ${total_cost:.2f}\")\n",
    "\n",
    "print(\"******Placing Order******\")\n",
    "cid=int(input('Enter your customer id: '))\n",
    "item=int(input('Enter Product Number Which Product You Want: 1 for Product1, 2 for Product2, 3 for Product3 '))\n",
    "qty=int(input('Howmuch Qty you need: '))\n",
    "place_order(cid, item, 3)  # Place an order for 3 units of Product 2 by Customer 1\n",
    "\n",
    "curs.close()\n"
   ]
  },
  {
   "cell_type": "code",
   "execution_count": 3,
   "id": "fba91720",
   "metadata": {},
   "outputs": [
    {
     "name": "stdout",
     "output_type": "stream",
     "text": [
      "Order report generated and saved to Order_Report.csv file in your diretory.\n"
     ]
    },
    {
     "data": {
      "text/plain": [
       "True"
      ]
     },
     "execution_count": 3,
     "metadata": {},
     "output_type": "execute_result"
    }
   ],
   "source": [
    "import csv\n",
    "\n",
    "curs = conn.cursor()\n",
    "\n",
    "def generate_order_report(report_filename):\n",
    "    curs.execute(\"\"\"\n",
    "        SELECT Orders.order_id, Customers.first_name, Customers.last_name,\n",
    "               Products.product_name, Order_Items.quantity, Order_Items.unit_price\n",
    "        FROM Orders\n",
    "        JOIN Customers ON Orders.customer_id = Customers.customer_id\n",
    "        JOIN Order_Items ON Orders.order_id = Order_Items.order_id\n",
    "        JOIN Products ON Order_Items.product_id = Products.product_id\n",
    "    \"\"\")\n",
    "\n",
    "    rows = curs.fetchall()\n",
    "\n",
    "    with open(report_filename, mode='w', newline='') as file:\n",
    "        writer = csv.writer(file)\n",
    "        writer.writerow([\"Order ID\", \"Customer First Name\", \"Customer Last Name\", \"Product Name\", \"Quantity\", \"Unit Price\"])\n",
    "\n",
    "        for row in rows:\n",
    "            writer.writerow(row)\n",
    "\n",
    "    print(f\"Order report generated and saved to {report_filename} file in your diretory.\")\n",
    "\n",
    "generate_order_report(\"Order_Report.csv\")\n",
    "\n",
    "# Close the database connection\n",
    "curs.close()\n"
   ]
  },
  {
   "cell_type": "code",
   "execution_count": 7,
   "id": "3c6e07ed",
   "metadata": {},
   "outputs": [
    {
     "name": "stdout",
     "output_type": "stream",
     "text": [
      "None\n"
     ]
    }
   ],
   "source": [
    "# now close the connection\n",
    "conn.close()"
   ]
  },
  {
   "cell_type": "markdown",
   "id": "4b92953c",
   "metadata": {},
   "source": [
    "# 3. You are tasked with developing a Python program that connects to a MySQL database, retrieves data from a table, performs some operations on the data, and updates the database with the modified data. Please write Python code to accomplish this task.\n",
    "4. Provide comments in your code to explain each step.\n",
    "   Instructions:\n",
    "\n"
   ]
  },
  {
   "cell_type": "markdown",
   "id": "8c66cfe2",
   "metadata": {},
   "source": [
    "# 1. Assume that you have a MySQL database server running with the following details:\n",
    "i. Host: localhost\n",
    "ii. Port: 3306\n",
    "iii. Username: your username\n",
    "iv. Password: your password\n",
    "v. Database Name: your database\n",
    "vi. Table Name: your_table\n",
    "vil. The table has the following columns: id (int), name (varchar), quantity (int).\n"
   ]
  },
  {
   "cell_type": "code",
   "execution_count": 2,
   "id": "cfaef2df",
   "metadata": {},
   "outputs": [
    {
     "name": "stdout",
     "output_type": "stream",
     "text": [
      "<mysql.connector.connection_cext.CMySQLConnection object at 0x00000202DF186AD0>\n"
     ]
    }
   ],
   "source": [
    "import mysql.connector\n",
    "\n",
    "# creating connection\n",
    "conn= mysql.connector.connect(user='root',\n",
    "                              password='passworde',\n",
    "                              host='127.0.0.1',\n",
    "                              database='my_database')\n",
    "\n",
    "print(conn) # cheking Connection"
   ]
  },
  {
   "cell_type": "code",
   "execution_count": 3,
   "id": "f0cd2fc0",
   "metadata": {},
   "outputs": [],
   "source": [
    "# creating curser\n",
    "cur=conn.cursor()\n"
   ]
  },
  {
   "cell_type": "code",
   "execution_count": null,
   "id": "471867a9",
   "metadata": {},
   "outputs": [],
   "source": [
    "\n",
    "# creating table\n",
    "cur.execute(\"create table my_table (id INT AUTO_INCREMENT PRIMARY KEY,name VARCHAR(30), quantity INT)\")\n"
   ]
  },
  {
   "cell_type": "code",
   "execution_count": 18,
   "id": "76e2a37a",
   "metadata": {},
   "outputs": [],
   "source": [
    "# inserting mutliple data into my_table\n",
    "my_tdata=[\n",
    "        ('Apple',30),\n",
    "         ('Mango',20),\n",
    "         ('Pomegranate',45),\n",
    "         ('Mulberry',66),\n",
    "         ('Strawberry',33),\n",
    "         ('Cherry',28),\n",
    "         ('Guava',18)\n",
    "        ]\n",
    "sql_my_table='insert into my_table(name,quantity)values(%s, %s)'\n",
    "\n",
    "cur.executemany(sql_my_table, my_tdata)\n",
    "\n"
   ]
  },
  {
   "cell_type": "code",
   "execution_count": 24,
   "id": "b5207573",
   "metadata": {},
   "outputs": [
    {
     "name": "stdout",
     "output_type": "stream",
     "text": [
      "(1, 'Apple', 30) (2, 'Mango', 20) (3, 'Pomegranate', 45) (4, 'Mulberry', 66) (5, 'Strawberry', 33) (6, 'Cherry', 28) (7, 'Guava', 18) "
     ]
    }
   ],
   "source": [
    "cur=conn.cursor()\n",
    "# displaying data\n",
    "\n",
    "cur.execute('select * from my_table')\n",
    "for i in cur:\n",
    "    print(i,end=\" \")\n",
    "\n",
    "conn.close()"
   ]
  },
  {
   "cell_type": "code",
   "execution_count": null,
   "id": "3b4cba98",
   "metadata": {},
   "outputs": [],
   "source": [
    "2. Your Python program should:\n",
    "i. Conect to the MySQL database.\n",
    "ii. Retrieve all records from the your_table table.\n",
    "iii. Calculate the total quantity of all records retrieved.\n",
    "iv. Update the quantity column of each record by doubling its value.\n",
    "v. Commit the changes to the database.\n",
    "vi. Close the database connection.\n"
   ]
  },
  {
   "cell_type": "code",
   "execution_count": null,
   "id": "745175b4",
   "metadata": {
    "scrolled": true
   },
   "outputs": [],
   "source": [
    "# here is the code create in another way without errors "
   ]
  },
  {
   "cell_type": "code",
   "execution_count": 11,
   "id": "cd7fa7e4",
   "metadata": {},
   "outputs": [
    {
     "name": "stdout",
     "output_type": "stream",
     "text": [
      "<mysql.connector.connection_cext.CMySQLConnection object at 0x00000252B69DD090>\n"
     ]
    }
   ],
   "source": [
    "import mysql.connector\n",
    "\n",
    "# creating connection\n",
    "conn= mysql.connector.connect(user='root',\n",
    "                              password='passworde',\n",
    "                              host='127.0.0.1',\n",
    "                              database='my_database')\n",
    "\n",
    "print(conn) # cheking Connection\n",
    "\n",
    "# creating curser\n",
    "curs=conn.cursor()"
   ]
  },
  {
   "cell_type": "code",
   "execution_count": 12,
   "id": "d4c08d48",
   "metadata": {},
   "outputs": [],
   "source": [
    "# creating table named as fruit\n",
    "curs.execute(\"CREATE TABLE fruitfamily (id INT AUTO_INCREMENT Primary key, name VARCHAR(30), quantity INT)\")\n"
   ]
  },
  {
   "cell_type": "code",
   "execution_count": 13,
   "id": "30883ea5",
   "metadata": {},
   "outputs": [],
   "source": [
    "curs.execute(\"insert into fruitfamily(name,quantity) values('Apple',30)\")\n",
    "curs.execute(\"insert into fruitfamily(name,quantity) values('Mango',20)\")\n",
    "curs.execute(\"insert into fruitfamily(name,quantity) values('Pomegranate',45)\")\n",
    "curs.execute(\"insert into fruitfamily(name,quantity) values('Mulberry',66)\")\n",
    "curs.execute(\"insert into fruitfamily(name,quantity) values('Strawberry',33)\")\n",
    "curs.execute(\"insert into fruitfamily(name,quantity) values('Cherry',28)\")\n",
    "curs.execute(\"insert into fruitfamily(name,quantity) values('Guava',18)\")"
   ]
  },
  {
   "cell_type": "code",
   "execution_count": 15,
   "id": "fa64cdb0",
   "metadata": {},
   "outputs": [
    {
     "name": "stdout",
     "output_type": "stream",
     "text": [
      "(1, 'Apple', 30)\n",
      "(2, 'Mango', 20)\n",
      "(3, 'Pomegranate', 45)\n",
      "(4, 'Mulberry', 66)\n",
      "(5, 'Strawberry', 33)\n",
      "(6, 'Cherry', 28)\n",
      "(7, 'Guava', 18)\n"
     ]
    }
   ],
   "source": [
    "# Retriving all the records from fruit table\n",
    "curs.execute('select * from fruitfamily')\n",
    "for i in curs:\n",
    "    print(i)"
   ]
  },
  {
   "cell_type": "code",
   "execution_count": 16,
   "id": "b42336c3",
   "metadata": {},
   "outputs": [
    {
     "name": "stdout",
     "output_type": "stream",
     "text": [
      "[(30,), (20,), (45,), (66,), (33,), (28,), (18,)]\n"
     ]
    }
   ],
   "source": [
    "\n",
    "curs.execute('select quantity from fruitfamily')\n",
    "# Making Fruit List\n",
    "fl=[]\n",
    "for i in curs:\n",
    "    fl.append(i)    \n",
    "print(fl)"
   ]
  },
  {
   "cell_type": "code",
   "execution_count": 17,
   "id": "c6f7fe8a",
   "metadata": {},
   "outputs": [
    {
     "name": "stdout",
     "output_type": "stream",
     "text": [
      "[30, 20, 45, 66, 33, 28, 18]\n"
     ]
    }
   ],
   "source": [
    "# extracting integers from this list\n",
    "integerslist = [x[0] for x in fl if isinstance(x[0], int)]\n",
    "print(integerslist)"
   ]
  },
  {
   "cell_type": "code",
   "execution_count": 19,
   "id": "e2d2d444",
   "metadata": {},
   "outputs": [
    {
     "name": "stdout",
     "output_type": "stream",
     "text": [
      "Total quantity of all records retrieved before updating quantity:  240\n"
     ]
    }
   ],
   "source": [
    "# iii. Calculate the total quantity of all records retrieved before updating it.\n",
    "totalquantity=sum(integerslist)\n",
    "print('Total quantity of all records retrieved before updating quantity: ',totalquantity)"
   ]
  },
  {
   "cell_type": "code",
   "execution_count": 20,
   "id": "5c0bc6ed",
   "metadata": {},
   "outputs": [],
   "source": [
    "# iv. Update the quantity column of each record by doubling its value.\n",
    "curs.execute('UPDATE fruitfamily SET quantity = quantity * 2')\n"
   ]
  },
  {
   "cell_type": "code",
   "execution_count": 22,
   "id": "5d5b1b94",
   "metadata": {},
   "outputs": [
    {
     "name": "stdout",
     "output_type": "stream",
     "text": [
      "(1, 'Apple', 60)\n",
      "(2, 'Mango', 40)\n",
      "(3, 'Pomegranate', 90)\n",
      "(4, 'Mulberry', 132)\n",
      "(5, 'Strawberry', 66)\n",
      "(6, 'Cherry', 56)\n",
      "(7, 'Guava', 36)\n"
     ]
    }
   ],
   "source": [
    "# checking values doubled or not \n",
    "curs.execute('select * from fruitfamily')\n",
    "for i in curs:\n",
    "    print (i)"
   ]
  },
  {
   "cell_type": "code",
   "execution_count": 23,
   "id": "b9ba56b4",
   "metadata": {},
   "outputs": [
    {
     "name": "stdout",
     "output_type": "stream",
     "text": [
      "[(60,), (40,), (90,), (132,), (66,), (56,), (36,)]\n"
     ]
    }
   ],
   "source": [
    "# again making list of that quantity\n",
    "\n",
    "curs.execute('select quantity from fruitfamily')\n",
    "# Making Fruit List\n",
    "fl=[]\n",
    "for i in curs:\n",
    "    fl.append(i)    \n",
    "print(fl)"
   ]
  },
  {
   "cell_type": "code",
   "execution_count": 24,
   "id": "31cf5b14",
   "metadata": {},
   "outputs": [
    {
     "name": "stdout",
     "output_type": "stream",
     "text": [
      "[60, 40, 90, 132, 66, 56, 36]\n"
     ]
    }
   ],
   "source": [
    "# extracting integers from this list\n",
    "integerslist = [x[0] for x in fl if isinstance(x[0], int)]\n",
    "print(integerslist)"
   ]
  },
  {
   "cell_type": "code",
   "execution_count": 25,
   "id": "03549cf8",
   "metadata": {},
   "outputs": [
    {
     "name": "stdout",
     "output_type": "stream",
     "text": [
      "Total quantity of all records retrieved after updating quantity:  480\n"
     ]
    }
   ],
   "source": [
    "# iii. Calculate the total quantity of all records retrieved after updating it.\n",
    "totalquantity=sum(integerslist)\n",
    "print('Total quantity of all records retrieved after updating quantity: ',totalquantity)"
   ]
  },
  {
   "cell_type": "code",
   "execution_count": 26,
   "id": "90d2ba18",
   "metadata": {},
   "outputs": [],
   "source": [
    "# commit chages\n",
    "conn.commit()\n",
    "\n",
    "# closing cursor\n",
    "curs.close()\n",
    "\n",
    "# closing connection\n",
    "conn.close()"
   ]
  },
  {
   "cell_type": "code",
   "execution_count": null,
   "id": "bb5600bc",
   "metadata": {},
   "outputs": [],
   "source": []
  },
  {
   "cell_type": "code",
   "execution_count": null,
   "id": "9c29cc04",
   "metadata": {},
   "outputs": [],
   "source": [
    "3. Handle any potential errors that may occur during the database connection and data manipulation, such as connection failures or SQL errors.\n"
   ]
  },
  {
   "cell_type": "code",
   "execution_count": 47,
   "id": "fc9b91ea",
   "metadata": {},
   "outputs": [
    {
     "name": "stdout",
     "output_type": "stream",
     "text": [
      "<mysql.connector.connection_cext.CMySQLConnection object at 0x000001ABAF800950>\n",
      "Connected to the database\n",
      "Skipping invalid quantity value: Apple\n",
      "Skipping invalid quantity value: Mango\n",
      "Skipping invalid quantity value: Pomegranate\n",
      "Skipping invalid quantity value: Mulberry\n",
      "Skipping invalid quantity value: Strawberry\n",
      "Skipping invalid quantity value: Cherry\n",
      "Skipping invalid quantity value: Guava\n",
      "Total quantity before doubling: 0\n",
      "Total quantity after doubling: 0\n"
     ]
    }
   ],
   "source": [
    "import mysql.connector\n",
    "\n",
    "try:\n",
    "    # Connect to the MySQL database\n",
    "    conn= mysql.connector.connect(user='root',\n",
    "                              password='passworde',\n",
    "                              host='127.0.0.1',\n",
    "                              database='my_database')\n",
    "\n",
    "    print(conn) # cheking Connection\n",
    "\n",
    "    # Check if the connection was successful\n",
    "    if conn.is_connected():\n",
    "        print(\"Connected to the database\")\n",
    "\n",
    "    cursor = conn.cursor()\n",
    "\n",
    "    # Step 1: Retrieve all records from the your_table table\n",
    "    cursor.execute(\"SELECT * FROM my_table\")\n",
    "    records = cursor.fetchall()\n",
    "\n",
    "    # Step 2: Initialize variables for total quantity and a list for valid updates\n",
    "    total_quantity = 0\n",
    "    valid_updates = []\n",
    "\n",
    "    # Step 3: Process each record\n",
    "    for record in records:\n",
    "        # Attempt to convert the quantity to an integer\n",
    "        try:\n",
    "            quantity = int(record[1])\n",
    "            total_quantity += quantity  # Add to the total if it's a valid integer\n",
    "            valid_updates.append((quantity * 2, record[0]))  # Store valid updates\n",
    "        except (ValueError, TypeError):\n",
    "            # Handle invalid or non-integer values here (e.g., log, skip, or other action)\n",
    "            print(f\"Skipping invalid quantity value: {record[1]}\")\n",
    "\n",
    "    # Step 4: Update the quantity column of each valid record with doubled values\n",
    "    update_query = \"UPDATE your_table SET quantity = %s WHERE id = %s\"\n",
    "    cursor.executemany(update_query, valid_updates)\n",
    "\n",
    "    # Step 5: Commit the changes to the database\n",
    "    conn.commit()\n",
    "\n",
    "    # Step 6: Close the cursor and database connection\n",
    "    cursor.close()\n",
    "    conn.close()\n",
    "\n",
    "    print(\"Total quantity before doubling:\", total_quantity)\n",
    "    print(\"Total quantity after doubling:\", total_quantity * 2)\n",
    "\n",
    "except mysql.connector.Error as e:\n",
    "    # Handle MySQL database errors\n",
    "    print(f\"MySQL Error: {e}\")\n",
    "\n",
    "except Exception as e:\n",
    "    # Handle other unexpected errors\n",
    "    print(f\"An unexpected error occurred: {e}\")\n"
   ]
  },
  {
   "cell_type": "code",
   "execution_count": 29,
   "id": "b7d18bc8",
   "metadata": {
    "scrolled": true
   },
   "outputs": [
    {
     "name": "stdout",
     "output_type": "stream",
     "text": [
      "(1, 'Apple', 30) (2, 'Mango', 20) (3, 'Pomegranate', 45) (4, 'Mulberry', 66) (5, 'Strawberry', 33) (6, 'Cherry', 28) (7, 'Guava', 18) "
     ]
    }
   ],
   "source": [
    "cur=conn.cursor()\n",
    "# displaying data\n",
    "\n",
    "cur.execute('select * from my_table')\n",
    "for i in cur:\n",
    "    print(i,end=\" \")\n",
    "\n"
   ]
  },
  {
   "cell_type": "markdown",
   "id": "a5dad28c",
   "metadata": {},
   "source": [
    "# 4. You are developing an employee management system for a company. The database should store employee information, including name, salary, department, and hire date. Managers should be able to view and update employee details.\n",
    "    1. Design the database schema for the employee management system.\n",
    "    2. Write Python code to connect to the database and retrieve a list of employees in a specific department.\n",
    "    3. Implement a feature to update an employee's salary.\n"
   ]
  },
  {
   "cell_type": "code",
   "execution_count": 7,
   "id": "9d293429",
   "metadata": {},
   "outputs": [
    {
     "name": "stdout",
     "output_type": "stream",
     "text": [
      "<mysql.connector.connection_cext.CMySQLConnection object at 0x000001B9B992FF10>\n"
     ]
    }
   ],
   "source": [
    "import mysql.connector\n",
    "\n",
    "# creating connection\n",
    "conn= mysql.connector.connect(user='root',\n",
    "                              password='passworde',\n",
    "                              host='127.0.0.1',\n",
    "                              database='my_database')\n",
    "\n",
    "print(conn) # cheking Connection\n",
    "\n",
    "# creating curser\n",
    "curs=conn.cursor()"
   ]
  },
  {
   "cell_type": "code",
   "execution_count": 8,
   "id": "e8493004",
   "metadata": {},
   "outputs": [],
   "source": [
    "# creating employee table\n",
    "curs.execute(\"CREATE TABLE employees (id INT AUTO_INCREMENT PRIMARY KEY, name VARCHAR(255) NOT NULL, salary DECIMAL(10, 2) NOT NULL, department VARCHAR(50) NOT NULL, hire_date DATE NOT NULL)\")\n"
   ]
  },
  {
   "cell_type": "code",
   "execution_count": 9,
   "id": "e3c2560a",
   "metadata": {},
   "outputs": [],
   "source": [
    "# inserting some values to employees table\n",
    "\n",
    "employee_data = [\n",
    "        ('John Doe', 55000.00, 'HR', '2023-01-15'),\n",
    "        ('Jane Smith', 60000.00, 'IT', '2022-08-10'),\n",
    "        ('Alice Johnson', 52000.00, 'Finance', '2023-03-20'),\n",
    "        ('Bob Williams', 58000.00, 'Marketing', '2022-11-05'),\n",
    "        ('Eva Davis', 56000.00, 'HR', '2023-02-28')\n",
    "    ]\n",
    "\n",
    "    # 2. Insert values into the employees table.\n",
    "sql_query = \"INSERT INTO employees (name, salary, department, hire_date) VALUES (%s, %s, %s, %s)\"\n",
    "curs.executemany(sql_query, employee_data)"
   ]
  },
  {
   "cell_type": "code",
   "execution_count": 10,
   "id": "4f6a9a17",
   "metadata": {
    "scrolled": true
   },
   "outputs": [
    {
     "name": "stdout",
     "output_type": "stream",
     "text": [
      "(1, 'John Doe', Decimal('55000.00'), 'HR', datetime.date(2023, 1, 15))\n",
      "(2, 'Jane Smith', Decimal('60000.00'), 'IT', datetime.date(2022, 8, 10))\n",
      "(3, 'Alice Johnson', Decimal('52000.00'), 'Finance', datetime.date(2023, 3, 20))\n",
      "(4, 'Bob Williams', Decimal('58000.00'), 'Marketing', datetime.date(2022, 11, 5))\n",
      "(5, 'Eva Davis', Decimal('56000.00'), 'HR', datetime.date(2023, 2, 28))\n"
     ]
    }
   ],
   "source": [
    "# displaying data \n",
    "curs.execute('select * from employees')\n",
    "for i in curs:\n",
    "    print(i)\n",
    "\n"
   ]
  },
  {
   "cell_type": "code",
   "execution_count": 11,
   "id": "495e9279",
   "metadata": {},
   "outputs": [
    {
     "name": "stdout",
     "output_type": "stream",
     "text": [
      "(1, 'John Doe', Decimal('55000.00'), 'HR', datetime.date(2023, 1, 15))\n",
      "(5, 'Eva Davis', Decimal('56000.00'), 'HR', datetime.date(2023, 2, 28))\n"
     ]
    }
   ],
   "source": [
    "# retrieve a list of employees in a specific department.\n",
    "\n",
    "sqlquery = \"select* from employees where department = 'HR'\"\n",
    "\n",
    "curs.execute(sqlquery)\n",
    "for i in curs:\n",
    "    print(i)\n"
   ]
  },
  {
   "cell_type": "code",
   "execution_count": 15,
   "id": "76e4de5a",
   "metadata": {},
   "outputs": [
    {
     "name": "stdout",
     "output_type": "stream",
     "text": [
      "You want to update an employee's salary: Y/Ny\n",
      "\n",
      "(1, 'John Doe', Decimal('55000.00'), 'HR', datetime.date(2023, 1, 15))\n",
      "(2, 'Jane Smith', Decimal('60000.00'), 'IT', datetime.date(2022, 8, 10))\n",
      "(3, 'Alice Johnson', Decimal('52000.00'), 'Finance', datetime.date(2023, 3, 20))\n",
      "(4, 'Bob Williams', Decimal('58000.00'), 'Marketing', datetime.date(2022, 11, 5))\n",
      "(5, 'Eva Davis', Decimal('56000.00'), 'HR', datetime.date(2023, 2, 28))\n",
      "Enter Employee id from the data: 1\n",
      "Enter Salary for updating salary: 70000\n",
      "Salary updated successfully.\n"
     ]
    }
   ],
   "source": [
    "# Implement a feature to update an employee's salary.\n",
    "\n",
    "inp= input(\"You want to update an employee's salary: Y/N\")\n",
    "\n",
    "if inp=='Y' or 'y':\n",
    "    print()\n",
    "    sqlquery = \"select* from employees\"\n",
    "    curs.execute(sqlquery)\n",
    "    for i in curs:\n",
    "        print(i)\n",
    "    \n",
    "eid = int(input(\"Enter Employee id from the data: \"))\n",
    "sal = float(input(\"Enter Salary for updating salary: \"))\n",
    "\n",
    "# Define the SQL update query with placeholders\n",
    "updating_query = \"UPDATE employees SET salary = %s WHERE id = %s\"\n",
    "\n",
    "try:\n",
    "    # Execute the query with the provided values\n",
    "    curs.execute(updating_query, (sal, eid))\n",
    "    conn.commit()  # Don't forget to commit the changes to the database\n",
    "\n",
    "    if curs.rowcount == 1:\n",
    "        print(\"Salary updated successfully.\")\n",
    "    else:\n",
    "        print(\"No employee found with the provided ID.\")\n",
    "\n",
    "except mysql.connector.Error as err:\n",
    "    print(\"Error:\", err)\n"
   ]
  },
  {
   "cell_type": "code",
   "execution_count": 16,
   "id": "369536f4",
   "metadata": {},
   "outputs": [
    {
     "name": "stdout",
     "output_type": "stream",
     "text": [
      "(1, 'John Doe', Decimal('70000.00'), 'HR', datetime.date(2023, 1, 15))\n",
      "(2, 'Jane Smith', Decimal('60000.00'), 'IT', datetime.date(2022, 8, 10))\n",
      "(3, 'Alice Johnson', Decimal('52000.00'), 'Finance', datetime.date(2023, 3, 20))\n",
      "(4, 'Bob Williams', Decimal('58000.00'), 'Marketing', datetime.date(2022, 11, 5))\n",
      "(5, 'Eva Davis', Decimal('56000.00'), 'HR', datetime.date(2023, 2, 28))\n"
     ]
    }
   ],
   "source": [
    "# cheking salry updated or not\n",
    "sqlquery = \"select* from employees\"\n",
    "curs.execute(sqlquery)\n",
    "for i in curs:\n",
    "    print(i)"
   ]
  },
  {
   "cell_type": "code",
   "execution_count": 19,
   "id": "e44c6e23",
   "metadata": {},
   "outputs": [],
   "source": [
    "conn.commit()\n",
    "curs.close()\n",
    "conn.close()"
   ]
  }
 ],
 "metadata": {
  "kernelspec": {
   "display_name": "Python 3 (ipykernel)",
   "language": "python",
   "name": "python3"
  },
  "language_info": {
   "codemirror_mode": {
    "name": "ipython",
    "version": 3
   },
   "file_extension": ".py",
   "mimetype": "text/x-python",
   "name": "python",
   "nbconvert_exporter": "python",
   "pygments_lexer": "ipython3",
   "version": "3.11.4"
  }
 },
 "nbformat": 4,
 "nbformat_minor": 5
}
